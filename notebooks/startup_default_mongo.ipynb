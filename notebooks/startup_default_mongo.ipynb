{
 "cells": [
  {
   "cell_type": "markdown",
   "metadata": {},
   "source": [
    "# Load and Save files from MongoDB"
   ]
  },
  {
   "cell_type": "code",
   "execution_count": 1,
   "metadata": {},
   "outputs": [],
   "source": [
    "user = %env MONGO_INITDB_ROOT_USERNAME\n",
    "password = %env MONGO_INITDB_ROOT_PASSWORD\n",
    "login = user + \":\" + password"
   ]
  },
  {
   "cell_type": "code",
   "execution_count": 2,
   "metadata": {},
   "outputs": [],
   "source": [
    "from pyspark.context import SparkContext\n",
    "from pyspark.sql.session import SparkSession\n",
    "\n",
    "spark = SparkSession \\\n",
    "    .builder \\\n",
    "    .appName(\"jupyter\") \\\n",
    "    .master(\"spark://master:7077\") \\\n",
    "    .config('spark.jars.packages','org.mongodb.spark:mongo-spark-connector_2.11:2.4.0' ) \\\n",
    "    .config(\"spark.mongodb.input.uri\", \"mongodb://\" + login + \"@mongo/power.data?authSource=admin\") \\\n",
    "    .config(\"spark.mongodb.output.uri\", \"mongodb://\" + login + \"@mongo/power.data?authSource=admin\") \\\n",
    "    .getOrCreate()"
   ]
  },
  {
   "cell_type": "code",
   "execution_count": 3,
   "metadata": {},
   "outputs": [],
   "source": [
    "df = spark.read.format(\"com.mongodb.spark.sql.DefaultSource\").load()"
   ]
  },
  {
   "cell_type": "code",
   "execution_count": 4,
   "metadata": {
    "scrolled": false
   },
   "outputs": [
    {
     "name": "stdout",
     "output_type": "stream",
     "text": [
      "+-------+-------------+-------------------+--------------------+---------+--------------------+--------+\n",
      "|  Acorn|Acorn_grouped|           DateTime|KWH_per_hh_per_30min|    LCLid|                 _id|stdorToU|\n",
      "+-------+-------------+-------------------+--------------------+---------+--------------------+--------+\n",
      "|ACORN-Q|    Adversity|2013-05-05 17:30:00|               0.519|MAC004894|[5cf9a703a1660000...|     Std|\n",
      "|ACORN-Q|    Adversity|2013-05-05 18:00:00|               0.401|MAC004894|[5cf9a703a1660000...|     Std|\n",
      "|ACORN-Q|    Adversity|2013-05-05 18:30:00|               0.408|MAC004894|[5cf9a703a1660000...|     Std|\n",
      "|ACORN-Q|    Adversity|2013-05-05 19:00:00|               0.428|MAC004894|[5cf9a703a1660000...|     Std|\n",
      "|ACORN-Q|    Adversity|2013-05-05 19:30:00|                0.37|MAC004894|[5cf9a703a1660000...|     Std|\n",
      "|ACORN-Q|    Adversity|2013-05-05 20:00:00|               0.377|MAC004894|[5cf9a703a1660000...|     Std|\n",
      "|ACORN-Q|    Adversity|2013-05-05 20:30:00|               0.382|MAC004894|[5cf9a703a1660000...|     Std|\n",
      "|ACORN-Q|    Adversity|2013-05-05 21:00:00|               0.339|MAC004894|[5cf9a703a1660000...|     Std|\n",
      "|ACORN-Q|    Adversity|2013-05-05 21:30:00|               0.355|MAC004894|[5cf9a703a1660000...|     Std|\n",
      "|ACORN-Q|    Adversity|2013-05-05 22:00:00|               0.343|MAC004894|[5cf9a703a1660000...|     Std|\n",
      "|ACORN-Q|    Adversity|2013-05-05 22:30:00|               0.398|MAC004894|[5cf9a703a1660000...|     Std|\n",
      "|ACORN-Q|    Adversity|2013-05-05 23:00:00|                 0.4|MAC004894|[5cf9a703a1660000...|     Std|\n",
      "|ACORN-Q|    Adversity|2013-05-05 23:30:00|                0.35|MAC004894|[5cf9a703a1660000...|     Std|\n",
      "|ACORN-Q|    Adversity|2013-05-06 00:00:00|               0.301|MAC004894|[5cf9a703a1660000...|     Std|\n",
      "|ACORN-Q|    Adversity|2013-05-06 00:30:00|                0.38|MAC004894|[5cf9a703a1660000...|     Std|\n",
      "|ACORN-Q|    Adversity|2013-05-06 01:00:00|               0.248|MAC004894|[5cf9a703a1660000...|     Std|\n",
      "|ACORN-Q|    Adversity|2013-05-06 01:30:00|               0.148|MAC004894|[5cf9a703a1660000...|     Std|\n",
      "|ACORN-Q|    Adversity|2013-05-06 02:00:00|               0.167|MAC004894|[5cf9a703a1660000...|     Std|\n",
      "|ACORN-Q|    Adversity|2013-05-06 02:30:00|               0.146|MAC004894|[5cf9a703a1660000...|     Std|\n",
      "|ACORN-Q|    Adversity|2013-05-06 03:00:00|               0.158|MAC004894|[5cf9a703a1660000...|     Std|\n",
      "+-------+-------------+-------------------+--------------------+---------+--------------------+--------+\n",
      "only showing top 20 rows\n",
      "\n"
     ]
    }
   ],
   "source": [
    "df.show()"
   ]
  },
  {
   "cell_type": "code",
   "execution_count": null,
   "metadata": {},
   "outputs": [],
   "source": []
  },
  {
   "cell_type": "code",
   "execution_count": null,
   "metadata": {},
   "outputs": [],
   "source": []
  },
  {
   "cell_type": "code",
   "execution_count": null,
   "metadata": {},
   "outputs": [],
   "source": []
  },
  {
   "cell_type": "markdown",
   "metadata": {},
   "source": [
    "# Save"
   ]
  },
  {
   "cell_type": "code",
   "execution_count": null,
   "metadata": {},
   "outputs": [],
   "source": [
    "# save to default uri db and coll\n",
    "#df.write.format(\"com.mongodb.spark.sql.DefaultSource\").mode(\"append\").save()\n",
    "# save to a different db and coll. must specify uri in config!\n",
    "# df.write.format(\"com.mongodb.spark.sql.DefaultSource\").mode(\"append\").option(\"database\",\n",
    "#\"william\").option(\"collection\", \"test\").save()"
   ]
  }
 ],
 "metadata": {
  "kernelspec": {
   "display_name": "Python 3",
   "language": "python",
   "name": "python3"
  },
  "language_info": {
   "codemirror_mode": {
    "name": "ipython",
    "version": 3
   },
   "file_extension": ".py",
   "mimetype": "text/x-python",
   "name": "python",
   "nbconvert_exporter": "python",
   "pygments_lexer": "ipython3",
   "version": "3.7.3"
  }
 },
 "nbformat": 4,
 "nbformat_minor": 2
}
